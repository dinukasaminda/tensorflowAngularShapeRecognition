{
  "nbformat": 4,
  "nbformat_minor": 0,
  "metadata": {
    "colab": {
      "name": "letter-cnn-my-dataset.ipynb",
      "version": "0.3.2",
      "provenance": []
    },
    "kernelspec": {
      "name": "python3",
      "display_name": "Python 3"
    }
  },
  "cells": [
    {
      "metadata": {
        "id": "bEkMf2uPPI9B",
        "colab_type": "code",
        "colab": {}
      },
      "cell_type": "code",
      "source": [
        "import requests\n",
        "\n",
        "def download_file_from_google_drive(id, destination):\n",
        "    URL = \"https://docs.google.com/uc?export=download\"\n",
        "\n",
        "    session = requests.Session()\n",
        "\n",
        "    response = session.get(URL, params = { 'id' : id }, stream = True)\n",
        "    token = get_confirm_token(response)\n",
        "\n",
        "    if token:\n",
        "        params = { 'id' : id, 'confirm' : token }\n",
        "        response = session.get(URL, params = params, stream = True)\n",
        "\n",
        "    save_response_content(response, destination)    \n",
        "def get_confirm_token(response):\n",
        "    for key, value in response.cookies.items():\n",
        "        if key.startswith('download_warning'):\n",
        "            return value\n",
        "\n",
        "    return None\n",
        "\n",
        "def save_response_content(response, destination):\n",
        "    CHUNK_SIZE = 32768\n",
        "\n",
        "    with open(destination, \"wb\") as f:\n",
        "        for chunk in response.iter_content(CHUNK_SIZE):\n",
        "            if chunk: # filter out keep-alive new chunks\n",
        "                f.write(chunk)\n",
        "\n",
        "\n",
        "file_id = '1GN_fx70jjYxcFpeQ2NzZewyJZldMwk4l'\n",
        "destination = 'my-dataset-v2-shapes.csv'\n",
        "download_file_from_google_drive(file_id, destination)"
      ],
      "execution_count": 0,
      "outputs": []
    },
    {
      "metadata": {
        "id": "WFwL8Dx5OQlV",
        "colab_type": "code",
        "colab": {
          "base_uri": "https://localhost:8080/",
          "height": 51
        },
        "outputId": "35f93ac6-024b-4ffe-af5a-d86b3618ab7e"
      },
      "cell_type": "code",
      "source": [
        "import csv as csv\n",
        "import numpy as np\n",
        "import pandas as pd \n",
        "import random\n",
        "from keras.models import Sequential\n",
        "from keras.layers import Dense,Activation,Conv2D,MaxPool2D,Flatten\n",
        "\n",
        "csv_file = csv.reader(open('my-dataset-v2-shapes.csv'))\n",
        "#header = csv_file.next()\n",
        "train_set = []\n",
        "\n",
        "for row in csv_file:\n",
        "    train_set.append(row[0:])\n",
        "\n",
        "train_set = np.array(train_set)\n",
        "\n",
        "\n",
        "train_set_len = len(train_set)\n",
        "print(train_set.shape)\n",
        "print(train_set_len)\n",
        "\n",
        "\n",
        "#1qagGehTLM4uTuN10ktkHuVbuahlUVEHN\n",
        "#https://drive.google.com/open?id=1qagGehTLM4uTuN10ktkHuVbuahlUVEHN"
      ],
      "execution_count": 18,
      "outputs": [
        {
          "output_type": "stream",
          "text": [
            "(348, 785)\n",
            "348\n"
          ],
          "name": "stdout"
        }
      ]
    },
    {
      "metadata": {
        "id": "r2zn1sw3CrYM",
        "colab_type": "code",
        "colab": {}
      },
      "cell_type": "code",
      "source": [
        "used_indexs =[]\n",
        "def gen_free_index():\n",
        "  idx =random.randint(0,train_set_len-1)\n",
        "  if idx in used_indexs :\n",
        "    return gen_free_index()\n",
        "  else :\n",
        "    used_indexs.append(idx)\n",
        "    return idx\n",
        "  "
      ],
      "execution_count": 0,
      "outputs": []
    },
    {
      "metadata": {
        "id": "BTdu0nNpPHna",
        "colab_type": "code",
        "colab": {}
      },
      "cell_type": "code",
      "source": [
        "def gen_train_set(batch_size):\n",
        "  \n",
        "  #global train_set\n",
        "  #train_set = np.random.shuffle(train_set)\n",
        "\n",
        "  x_train=[]\n",
        "  y_train=[]\n",
        "  for i in range(0,batch_size):\n",
        "    t=gen_free_index()\n",
        "   \n",
        "    datav = train_set[t]\n",
        "    datav=datav.astype(float)\n",
        "    y_v = datav[0]\n",
        "    x_v = np.delete(datav,[0])\n",
        "    x_v = np.array(x_v)\n",
        "    \n",
        "    \n",
        "    #y_lable = []\n",
        "    #y_lable.append(y_v)\n",
        "    \n",
        "    x_train.append(x_v)    \n",
        "    y_train.append(int(y_v))\n",
        "    \n",
        "  x_train = np.array(x_train)\n",
        "  x_train = x_train.reshape((-1,28,28,1))\n",
        "  y_train = np.array(y_train)\n",
        "  return x_train,y_train"
      ],
      "execution_count": 0,
      "outputs": []
    },
    {
      "metadata": {
        "id": "deYMBaPJPeMg",
        "colab_type": "code",
        "colab": {
          "base_uri": "https://localhost:8080/",
          "height": 51
        },
        "outputId": "04e44149-a1af-4005-8da0-58c49d049f3d"
      },
      "cell_type": "code",
      "source": [
        "width = 28\n",
        "height = 28\n",
        "batch_size=100\n",
        "used_indexs = []\n",
        "x_test,y_test = gen_train_set(200)\n",
        "used_indexs = []\n",
        "x_train,y_train = gen_train_set(348)\n",
        "print(x_train.shape)\n",
        "print(y_train.shape)"
      ],
      "execution_count": 25,
      "outputs": [
        {
          "output_type": "stream",
          "text": [
            "(348, 28, 28, 1)\n",
            "(348,)\n"
          ],
          "name": "stdout"
        }
      ]
    },
    {
      "metadata": {
        "id": "7_ltdoz2PnSZ",
        "colab_type": "code",
        "colab": {
          "base_uri": "https://localhost:8080/",
          "height": 547
        },
        "outputId": "093f5551-e616-4c98-f9f0-509055638241"
      },
      "cell_type": "code",
      "source": [
        "import scipy.misc as smp\n",
        "from matplotlib import pyplot as plt\n",
        "str = \"ABCDEFGHIJKLMNOPQRSTUVWXYZ\"\n",
        "\n",
        "# Create a 1024x1024x3 array of 8 bit unsigned integers\n",
        "vl =100\n",
        "x_train1 =x_train[vl].reshape([28,28])\n",
        "print(str[y_train[vl]])\n",
        "for p in x_train1:\n",
        "  ln1 =''\n",
        "  for c in p :\n",
        "    ic = 0\n",
        "    if int(c*255)>10 :\n",
        "      ic = 1\n",
        "    ln1+= \"{0}\".format(ic)\n",
        "  print(ln1)\n",
        "#print(x_train[0])\n",
        "'''\n",
        "# Create a 1024x1024x3 array of 8 bit unsigned integers\n",
        "for vl in range(0,10):\n",
        "\n",
        "  data = np.zeros( (28,28,3), dtype=np.uint8 )\n",
        "  for j in range(0,28):\n",
        "    for i in range(0,28):\n",
        "      #print(train_set_V[i][j])\n",
        "      #print(x_test[0][j][i][0])\n",
        "      data[i,j]= [x_train[vl][j][i][0]*255,0,0] ;\n",
        "  print(y_train[vl])  \n",
        "  print(str[y_train[vl]])\n",
        "\n",
        "  plt.imshow(data, interpolation='nearest')\n",
        "  plt.show()\n",
        "'''"
      ],
      "execution_count": 26,
      "outputs": [
        {
          "output_type": "stream",
          "text": [
            "D\n",
            "0000000000000000000000000000\n",
            "0000000000000000000000001000\n",
            "0000000000000000000000111000\n",
            "0000000000000000000000101000\n",
            "0000000001000000000001001000\n",
            "0000000001100000000011011000\n",
            "0000000001100000001100011000\n",
            "0000000001100000001000011000\n",
            "0000000000100000010000011000\n",
            "0000000000100000100000010000\n",
            "0000000000100001100000010000\n",
            "0000000000100011000000010000\n",
            "0000000000100110000000010000\n",
            "0000000000101100000000010000\n",
            "0000000000111000000000010000\n",
            "0000000000110000000000010000\n",
            "0000000000111000000000010000\n",
            "0000000000101100000000010000\n",
            "0000000000100110000000010000\n",
            "0000000000100011000000010000\n",
            "0000000000100001100000010000\n",
            "0000000000100000110000010000\n",
            "0000000000100000011100010000\n",
            "0000000000100000000110010000\n",
            "0000000000100000000011010000\n",
            "0000000000000000000001110000\n",
            "0000000000000000000000000000\n",
            "0000000000000000000000000000\n"
          ],
          "name": "stdout"
        },
        {
          "output_type": "execute_result",
          "data": {
            "text/plain": [
              "\"\\n# Create a 1024x1024x3 array of 8 bit unsigned integers\\nfor vl in range(0,10):\\n\\n  data = np.zeros( (28,28,3), dtype=np.uint8 )\\n  for j in range(0,28):\\n    for i in range(0,28):\\n      #print(train_set_V[i][j])\\n      #print(x_test[0][j][i][0])\\n      data[i,j]= [x_train[vl][j][i][0]*255,0,0] ;\\n  print(y_train[vl])  \\n  print(str[y_train[vl]])\\n\\n  plt.imshow(data, interpolation='nearest')\\n  plt.show()\\n\""
            ]
          },
          "metadata": {
            "tags": []
          },
          "execution_count": 26
        }
      ]
    },
    {
      "metadata": {
        "id": "63EEyhiKPpOh",
        "colab_type": "code",
        "colab": {
          "base_uri": "https://localhost:8080/",
          "height": 442
        },
        "outputId": "bad0c96c-cbf0-4a54-8086-ad8c5b2164ba"
      },
      "cell_type": "code",
      "source": [
        "model = Sequential()\n",
        "model.add(Conv2D(80,kernel_size=(5,5),padding='same',activation='relu',input_shape=(width,height,1)))\n",
        "model.add(MaxPool2D(pool_size= (2,2)))\n",
        "model.add(Conv2D(80,kernel_size=(3,3),padding='same',activation='relu'))\n",
        "model.add(MaxPool2D(pool_size= (2,2)))\n",
        "model.add(Conv2D(80,kernel_size=(3,3),padding='same',activation='relu'))\n",
        "model.add(MaxPool2D(pool_size= (2,2)))\n",
        "\n",
        "model.add(Flatten())\n",
        "model.add(Dense(104,activation='relu'))\n",
        "model.add(Dense(8,activation='softmax'))\n",
        "model.compile(optimizer='adadelta',loss='sparse_categorical_crossentropy')\n",
        "\n",
        "model.summary()"
      ],
      "execution_count": 27,
      "outputs": [
        {
          "output_type": "stream",
          "text": [
            "_________________________________________________________________\n",
            "Layer (type)                 Output Shape              Param #   \n",
            "=================================================================\n",
            "conv2d_4 (Conv2D)            (None, 28, 28, 80)        2080      \n",
            "_________________________________________________________________\n",
            "max_pooling2d_4 (MaxPooling2 (None, 14, 14, 80)        0         \n",
            "_________________________________________________________________\n",
            "conv2d_5 (Conv2D)            (None, 14, 14, 80)        57680     \n",
            "_________________________________________________________________\n",
            "max_pooling2d_5 (MaxPooling2 (None, 7, 7, 80)          0         \n",
            "_________________________________________________________________\n",
            "conv2d_6 (Conv2D)            (None, 7, 7, 80)          57680     \n",
            "_________________________________________________________________\n",
            "max_pooling2d_6 (MaxPooling2 (None, 3, 3, 80)          0         \n",
            "_________________________________________________________________\n",
            "flatten_2 (Flatten)          (None, 720)               0         \n",
            "_________________________________________________________________\n",
            "dense_3 (Dense)              (None, 104)               74984     \n",
            "_________________________________________________________________\n",
            "dense_4 (Dense)              (None, 8)                 840       \n",
            "=================================================================\n",
            "Total params: 193,264\n",
            "Trainable params: 193,264\n",
            "Non-trainable params: 0\n",
            "_________________________________________________________________\n"
          ],
          "name": "stdout"
        }
      ]
    },
    {
      "metadata": {
        "id": "aORaYPHgPq4Z",
        "colab_type": "code",
        "colab": {
          "base_uri": "https://localhost:8080/",
          "height": 374
        },
        "outputId": "15ce480c-2671-48b1-e70f-fb45045771cf"
      },
      "cell_type": "code",
      "source": [
        "model.fit(x_train, y_train,epochs=10,batch_size= batch_size)"
      ],
      "execution_count": 28,
      "outputs": [
        {
          "output_type": "stream",
          "text": [
            "Epoch 1/10\n",
            "348/348 [==============================] - 2s 5ms/step - loss: 2.0639\n",
            "Epoch 2/10\n",
            "348/348 [==============================] - 1s 4ms/step - loss: 1.8991\n",
            "Epoch 3/10\n",
            "348/348 [==============================] - 1s 4ms/step - loss: 1.7132\n",
            "Epoch 4/10\n",
            "348/348 [==============================] - 1s 4ms/step - loss: 1.2286\n",
            "Epoch 5/10\n",
            "348/348 [==============================] - 1s 4ms/step - loss: 0.9545\n",
            "Epoch 6/10\n",
            "348/348 [==============================] - 1s 4ms/step - loss: 0.5931\n",
            "Epoch 7/10\n",
            "348/348 [==============================] - 1s 4ms/step - loss: 0.3096\n",
            "Epoch 8/10\n",
            "348/348 [==============================] - 1s 4ms/step - loss: 0.1637\n",
            "Epoch 9/10\n",
            "348/348 [==============================] - 1s 4ms/step - loss: 0.0450\n",
            "Epoch 10/10\n",
            "348/348 [==============================] - 1s 4ms/step - loss: 0.0280\n"
          ],
          "name": "stdout"
        },
        {
          "output_type": "execute_result",
          "data": {
            "text/plain": [
              "<keras.callbacks.History at 0x7fc60405fe80>"
            ]
          },
          "metadata": {
            "tags": []
          },
          "execution_count": 28
        }
      ]
    },
    {
      "metadata": {
        "id": "9MO_WsLRPtrM",
        "colab_type": "code",
        "colab": {
          "base_uri": "https://localhost:8080/",
          "height": 68
        },
        "outputId": "d52bbe01-e72f-4bdb-ee1e-9603b1e20d2e"
      },
      "cell_type": "code",
      "source": [
        "print(y_test[0])\n",
        "score = model.evaluate(x_test, y_test, batch_size=128)\n",
        "print(score)"
      ],
      "execution_count": 29,
      "outputs": [
        {
          "output_type": "stream",
          "text": [
            "5\n",
            "200/200 [==============================] - 0s 1ms/step\n",
            "0.039825548529624936\n"
          ],
          "name": "stdout"
        }
      ]
    },
    {
      "metadata": {
        "id": "quQrVE8_PvOw",
        "colab_type": "code",
        "colab": {
          "base_uri": "https://localhost:8080/",
          "height": 51
        },
        "outputId": "67965fe5-e3e5-4bca-917b-4be787993910"
      },
      "cell_type": "code",
      "source": [
        "xt= []\n",
        "xt.append(x_test[0])\n",
        "xt=np.array(xt)\n",
        "\n",
        "score = model.predict(x_test)\n",
        "counter1 =0\n",
        "for i in range(0,len(score)):\n",
        "  if np.argmax(score[i]) == y_test[i]:\n",
        "    counter1 += 1\n",
        "  #else :\n",
        "    #print(\"predict:\",np.argmax(score[i]),\", lable:\", y_test[i])\n",
        "print(score.shape)\n",
        "print(counter1/len(score))"
      ],
      "execution_count": 30,
      "outputs": [
        {
          "output_type": "stream",
          "text": [
            "(200, 8)\n",
            "1.0\n"
          ],
          "name": "stdout"
        }
      ]
    },
    {
      "metadata": {
        "id": "7ulo4o4IPw35",
        "colab_type": "code",
        "colab": {}
      },
      "cell_type": "code",
      "source": [
        "model.save('shapes-conv-project-mydataset-v2.h5')  # creates a HDF5 file 'letters-conv-project-mydataset-v1.h5'\n",
        "from google.colab import files\n",
        "files.download(\"shapes-conv-project-mydataset-v2.h5\" ) "
      ],
      "execution_count": 0,
      "outputs": []
    }
  ]
}